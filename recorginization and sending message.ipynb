{
 "cells": [
  {
   "cell_type": "code",
   "execution_count": 3,
   "metadata": {},
   "outputs": [
    {
     "name": "stderr",
     "output_type": "stream",
     "text": [
      "<>:19: SyntaxWarning: \"is\" with a literal. Did you mean \"==\"?\n",
      "<>:19: SyntaxWarning: \"is\" with a literal. Did you mean \"==\"?\n",
      "<ipython-input-3-0775cd0d94fa>:19: SyntaxWarning: \"is\" with a literal. Did you mean \"==\"?\n",
      "  if faces is ():\n"
     ]
    }
   ],
   "source": [
    "import cv2\n",
    "import numpy as np\n",
    "from os import listdir\n",
    "from os.path import isfile, join\n",
    "import os\n",
    "import threading\n",
    "face_classifier = cv2.CascadeClassifier('haarcascade_frontalface_default.xml')\n",
    "person_saved_model = cv2.face_LBPHFaceRecognizer.create()\n",
    "person_saved_model.read('./models/person_model.yml')\n",
    "\n",
    "import cv2, numpy, os\n",
    "face_classifier=cv2.CascadeClassifier(\"haarcascade_frontalface_default.xml\")\n",
    "\n",
    "def face_detector(img,size=0.5):\n",
    "    \n",
    "    # Convert image to grayscale\n",
    "    gray=cv2.cvtColor(img,cv2.COLOR_BGR2GRAY)\n",
    "    faces=face_classifier.detectMultiScale(gray,scaleFactor=1.3, minNeighbors=5)\n",
    "    if faces is ():\n",
    "        return img, []\n",
    "    \n",
    "    for (x,y,w,h) in faces:\n",
    "        cv2.rectangle(img,(x,y),(x+w,y+h),(0,255,255),2)\n",
    "        roi=img[y:y+h,x:x+w]\n",
    "        roi=cv2.resize(roi,(200,200))\n",
    "    return img, roi"
   ]
  },
  {
   "cell_type": "markdown",
   "metadata": {},
   "source": [
    "# functions for sending mail and whats aap message\n"
   ]
  },
  {
   "cell_type": "code",
   "execution_count": null,
   "metadata": {
    "scrolled": true
   },
   "outputs": [
    {
     "name": "stderr",
     "output_type": "stream",
     "text": [
      "<>:19: SyntaxWarning: \"is\" with a literal. Did you mean \"==\"?\n",
      "<>:19: SyntaxWarning: \"is\" with a literal. Did you mean \"==\"?\n",
      "<ipython-input-7-17f77f65311d>:19: SyntaxWarning: \"is\" with a literal. Did you mean \"==\"?\n",
      "  if faces is ():\n"
     ]
    },
    {
     "name": "stdout",
     "output_type": "stream",
     "text": [
      "WHATSAPP MESSAGE SENT!!!\n",
      "WHATSAPP MESSAGE SENT!!!\n"
     ]
    }
   ],
   "source": [
    "import numpy as np\n",
    "import os\n",
    "import pywhatkit as kitkat\n",
    "from datetime import date\n",
    "from datetime import datetime\n",
    "\n",
    "time = datetime.now()\n",
    "date = date.today()\n",
    "\n",
    "\n",
    "face_classifier = cv2.CascadeClassifier('haarcascade_frontalface_default.xml')\n",
    "\n",
    "def face_detector(img, size=0.5):\n",
    "    \n",
    "    # Convert image to grayscale\n",
    "    gray = cv2.cvtColor(img,cv2.COLOR_BGR2GRAY)\n",
    "    faces = face_classifier.detectMultiScale(gray, 1.3, 5)\n",
    "    if faces is ():\n",
    "        return img, []\n",
    "    \n",
    "    \n",
    "    for (x,y,w,h) in faces:\n",
    "        cv2.rectangle(img,(x,y),(x+w,y+h),(0,255,255),2)\n",
    "        roi = img[y:y+h, x:x+w]\n",
    "        roi = cv2.resize(roi, (200, 200))\n",
    "    return img, roi\n",
    "\n",
    "\n",
    "# WEBCAM INITIALIZATION\n",
    "cap = cv2.VideoCapture(0)\n",
    "\n",
    "while True:\n",
    "\n",
    "    ret, frame = cap.read()\n",
    "    \n",
    "    image, face = face_detector(frame)\n",
    "    \n",
    "    \n",
    "    try:\n",
    "        face = cv2.cvtColor(face, cv2.COLOR_BGR2GRAY)\n",
    "        results = person_saved_model.predict(face)\n",
    "        \n",
    "        \n",
    "        if results[1] < 500:\n",
    "            confidence = int( 100 * (1 - (results[1])/400) )\n",
    "            display_string = str(confidence) + '% FACE MATCHING to yuvraj!!!'\n",
    "            cv2.putText(image, display_string, (50, 100), cv2.FONT_HERSHEY_COMPLEX, 1, (0, 255,0), 2)\n",
    "        \n",
    "        #IF CONFIDENCE SCORE WILL BE MORE THAN 90% EMAIL AND WHATSAPP MESSAGE BOTH WILL BE SEND.\n",
    "        if confidence > 80:\n",
    "            cv2.putText(image, \"FACE MATCHED!!!\", (100, 450), cv2.FONT_HERSHEY_COMPLEX, 1, (0,255,0), 2)\n",
    "            cv2.imshow('FACE RECOGNITION', image)\n",
    "            kit.sendwhatmsg_instantly('+917004406676','yuvraj face detected  this message is computer generated !!!')\n",
    "            print(\"WHATSAPP MESSAGE SENT!!!\")\n",
    "            sender_email = \"yuvraj.summerintenship@gmail.com\"\n",
    "            rec_email = \"yuvraj15160@gmail.com\"\n",
                 password =  \"**************\"\n",
    "            message = \"yuvraj face dedected at\", + time , +date \n",
    "\n",
    "            server = smtplib.SMTP('smtp.gmail.com', 587)\n",
    "            server.starttls()\n",
    "            server.login(sender_email, password)\n",
    "            print(\"Login success\")\n",
    "            server.sendmail(sender_email, rec_email, message)\n",
    "            print(\"Email has been sent to \", rec_email)\n",
    "       \n",
    "            \n",
    "        else:\n",
    "            #cv2.putText(image, \"FACE IS NOT MATCHING by 90%!!!\", (100, 450), cv2.FONT_HERSHEY_COMPLEX, 1, (255,0,0), 2)\n",
    "            cv2.imshow('FACE RECOGNITION', image )\n",
    "\n",
    "    except:\n",
    "        #cv2.putText(image, \"FACE DOESN'T FOUND!!!\", (50, 100) , cv2.FONT_HERSHEY_COMPLEX, 1, (255,0,0), 2)\n",
    "        cv2.putText(image, \"PlEASE LOOK AT CAMERA!!!\", (50, 450), cv2.FONT_HERSHEY_COMPLEX, 1, (255,0,0), 2)\n",
    "        #cv2.imshow('FACE RECOGNITION', image)\n",
    "        pass\n",
    "        \n",
    "    if cv2.waitKey(1) == 13:\n",
    "        break\n",
    "        \n",
    "cap.release()\n",
    "cv2.destroyAllWindows()"
   ]
  },
  {
   "cell_type": "code",
   "execution_count": null,
   "metadata": {},
   "outputs": [],
   "source": []
  }
 ],
 "metadata": {
  "kernelspec": {
   "display_name": "Python 3",
   "language": "python",
   "name": "python3"
  },
  "language_info": {
   "codemirror_mode": {
    "name": "ipython",
    "version": 3
   },
   "file_extension": ".py",
   "mimetype": "text/x-python",
   "name": "python",
   "nbconvert_exporter": "python",
   "pygments_lexer": "ipython3",
   "version": "3.8.3"
  }
 },
 "nbformat": 4,
 "nbformat_minor": 4
}
